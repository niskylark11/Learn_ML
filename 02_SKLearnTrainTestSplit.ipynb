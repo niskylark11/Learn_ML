{
  "nbformat": 4,
  "nbformat_minor": 0,
  "metadata": {
    "colab": {
      "name": "02-SKLearnTrainTestSplit.ipynb",
      "provenance": [],
      "authorship_tag": "ABX9TyM1zEgStM576VaaLddDxsTx",
      "include_colab_link": true
    },
    "kernelspec": {
      "name": "python3",
      "display_name": "Python 3"
    }
  },
  "cells": [
    {
      "cell_type": "markdown",
      "metadata": {
        "id": "view-in-github",
        "colab_type": "text"
      },
      "source": [
        "<a href=\"https://colab.research.google.com/github/niskylark11/Learn_ML/blob/master/02_SKLearnTrainTestSplit.ipynb\" target=\"_parent\"><img src=\"https://colab.research.google.com/assets/colab-badge.svg\" alt=\"Open In Colab\"/></a>"
      ]
    },
    {
      "cell_type": "markdown",
      "metadata": {
        "id": "8Tm1Ih0ffATL",
        "colab_type": "text"
      },
      "source": [
        "Library Scikit Learn menyediakan fungsi untuk membagi dataset menjadi train set (data training) dan test set (data testing)."
      ]
    },
    {
      "cell_type": "code",
      "metadata": {
        "id": "R05R4Eg2eaHz",
        "colab_type": "code",
        "colab": {}
      },
      "source": [
        "import sklearn\n",
        "from sklearn import datasets\n",
        "from sklearn.model_selection import train_test_split"
      ],
      "execution_count": 0,
      "outputs": []
    },
    {
      "cell_type": "markdown",
      "metadata": {
        "id": "fl8G1l_0fYnb",
        "colab_type": "text"
      },
      "source": [
        "Library sklearn menyediakan dataset iris yakni sebuah dataset yang umum digunakan untuk masalah klasifikasi. Dataset ini memiliki jumlah 150 sampel. Untuk mendapatkan dataset, kita bisa menulis kode berikut pada cell baru."
      ]
    },
    {
      "cell_type": "code",
      "metadata": {
        "id": "GCOiCT2Cetgn",
        "colab_type": "code",
        "colab": {}
      },
      "source": [
        "iris = datasets.load_iris()"
      ],
      "execution_count": 0,
      "outputs": []
    },
    {
      "cell_type": "markdown",
      "metadata": {
        "id": "KRio65syffT8",
        "colab_type": "text"
      },
      "source": [
        "Dataset iris dari library sklearn belum dapat langsung dipakai oleh sebuah model ML. Sesuai dengan yang telah dibahas pada modul terdahulu, kita harus memisahkan antara atribut dan label pada dataset."
      ]
    },
    {
      "cell_type": "code",
      "metadata": {
        "id": "2pJ-BL5Pe1XJ",
        "colab_type": "code",
        "colab": {}
      },
      "source": [
        "x=iris.data\n",
        "y=iris.target"
      ],
      "execution_count": 0,
      "outputs": []
    },
    {
      "cell_type": "markdown",
      "metadata": {
        "id": "PasX4pobfiRq",
        "colab_type": "text"
      },
      "source": [
        "Untuk membuat train set dan test set kita tinggal memanggil fungsi train_test_split. Train_test_split memiliki parameter x yaitu atribut dari dataset, y yaitu target dari dataset, dan test_size yaitu persentase dari test \n",
        "\n",
        "set dari dataset utuh. Train_test_split mengembalikan 4 nilai yaitu, atribut dari train set, atribut  dari test set, target dari train set, dan target dari test set."
      ]
    },
    {
      "cell_type": "code",
      "metadata": {
        "id": "5kY_ba8Ke6tq",
        "colab_type": "code",
        "colab": {}
      },
      "source": [
        "x_train, x_test, y_train, y_test = train_test_split(x, y, test_size=0.2)"
      ],
      "execution_count": 0,
      "outputs": []
    },
    {
      "cell_type": "markdown",
      "metadata": {
        "id": "bbc8oeFsflci",
        "colab_type": "text"
      },
      "source": [
        "Untuk membuat train set dan test set kita tinggal memanggil fungsi train_test_split. Train_test_split memiliki parameter x yaitu atribut dari dataset, y yaitu target dari dataset, dan test_size yaitu persentase dari test \n",
        "\n",
        "set dari dataset utuh. Train_test_split mengembalikan 4 nilai yaitu, atribut dari train set, atribut  dari test set, target dari train set, dan target dari test set."
      ]
    },
    {
      "cell_type": "code",
      "metadata": {
        "id": "fCTCW_mbfSob",
        "colab_type": "code",
        "colab": {
          "base_uri": "https://localhost:8080/",
          "height": 34
        },
        "outputId": "8fb3d76e-8d21-4b60-dae0-fc11ed9d1ed1"
      },
      "source": [
        "len(x_test)"
      ],
      "execution_count": 5,
      "outputs": [
        {
          "output_type": "execute_result",
          "data": {
            "text/plain": [
              "30"
            ]
          },
          "metadata": {
            "tags": []
          },
          "execution_count": 5
        }
      ]
    },
    {
      "cell_type": "markdown",
      "metadata": {
        "id": "iKqTXk0vfoSE",
        "colab_type": "text"
      },
      "source": [
        "Pada tahap ini dataset kita sudah bisa dipakai pada sebuah model machine learning."
      ]
    }
  ]
}